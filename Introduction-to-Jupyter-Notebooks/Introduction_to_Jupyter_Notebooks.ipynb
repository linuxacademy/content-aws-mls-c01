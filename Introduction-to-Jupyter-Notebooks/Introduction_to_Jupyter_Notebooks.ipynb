{
 "cells": [
  {
   "cell_type": "markdown",
   "metadata": {},
   "source": [
    "![Linux Academy](la-logo.png)\n",
    "<hr/>"
   ]
  },
  {
   "cell_type": "markdown",
   "metadata": {},
   "source": [
    "<center><h1>Introduction to Jupyter Notebooks</h1></center>\n",
    "<center><h2>Using AWS SageMaker</h2></center>"
   ]
  },
  {
   "cell_type": "markdown",
   "metadata": {},
   "source": [
    "# Introduction\n",
    "\n",
    "In this Linux Academy hands-on lab we take an introductory look at __Jupyter Notebooks__ from within AWS SageMaker.\n",
    "\n",
    "Jupyter Notebooks are designed to provide an easy way to interact with data and documentation at the same time.  Data scientists often use these books while designing and sharing solutions.\n",
    "\n",
    "__Think of Jupyter Notebooks as a Wiki for code and data!__\n",
    "\n",
    "# Scenario\n",
    "\n",
    "Most of this Linux Academy hands-on lab is designed to familiarize you with the basic components of Jupyter Notebooks. We cover some basic libraries, commands, and their uses. We also have a data scenario to play with:\n",
    "\n",
    "![I'm not heavy, I have dense feathers!](./animal-animal-photography-cold-86405.jpg)\n",
    "\n",
    "A group of scientists have traveled to Antartica to carry out a penguin survey. During the survey, they collect the heights and weights of a number of penguins. The project wants us to use this data to create a (simple) machine learning algorithm to help predict the weights of penguin given their heights. This is not as simple as you might think! Penguins of the same height may weigh differnet amounts because of factors like diet, bone density, and feather density. So we need to analyze all the data and create a model that fits as best we can.\n",
    "\n",
    "_(Clearly this is a fictitious dataset, please don't start a zoological penguin analysis business off of it!)_\n",
    "\n",
    "We are going to use a linear regression algorithm, trained with our survey data. But first, let's get introduced to Jupyter Notebooks."
   ]
  },
  {
   "cell_type": "markdown",
   "metadata": {},
   "source": [
    "# How to Use This Lab\n",
    "\n",
    "This is a follow-along lab. That is to say, the code in this Jupyter Notebook should be complete, and you could simply execute the notebook to get a result. However, watch the video to learn more about what is happening in the code and then take the time to experiment with the code; make changes, break it, fix it, and learn!\n"
   ]
  },
  {
   "cell_type": "markdown",
   "metadata": {},
   "source": [
    "## 1) Markdown"
   ]
  },
  {
   "cell_type": "markdown",
   "metadata": {},
   "source": [
    "This is a _Markdown_ cell.\n",
    "\n",
    "Let's upload and display an image. When an image is uploaded we can add the following code to insert it into the document:\n",
    "\n",
    "```![Pinehead](pinehead.jpg)```\n",
    "\n",
    "1. Add a cell below this one.\n",
    "2. Set it as a Markdown cell.\n",
    "3. Copy the code snippet above into the cell."
   ]
  },
  {
   "cell_type": "markdown",
   "metadata": {},
   "source": [
    "## 2) Command-Line Operations"
   ]
  },
  {
   "cell_type": "markdown",
   "metadata": {},
   "source": [
    "What happens when we run this cell?"
   ]
  },
  {
   "cell_type": "code",
   "execution_count": null,
   "metadata": {},
   "outputs": [],
   "source": [
    "!whoami\n",
    "!which python"
   ]
  },
  {
   "cell_type": "markdown",
   "metadata": {},
   "source": [
    "## 3) Python Operations"
   ]
  },
  {
   "cell_type": "markdown",
   "metadata": {},
   "source": [
    "Notebooks are run within a kernel. These are like virtual environments that contain the running code and data. You can see the kernal being used for this notebook in the top right. We can even change it.\n",
    "\n",
    "This notebook is running with a Python kernel. Python is a common language for Jupyter Notebooks but you can use others. Other kernels include different verions of Python and key libraries for the processing of data."
   ]
  },
  {
   "cell_type": "code",
   "execution_count": null,
   "metadata": {},
   "outputs": [],
   "source": [
    "words = ['awesome', 'amazing', 'great']\n",
    "for w in words:\n",
    "    print('This Linux Academy lab is %s!' % w)"
   ]
  },
  {
   "cell_type": "markdown",
   "metadata": {},
   "source": [
    "## 4) Python Lists"
   ]
  },
  {
   "cell_type": "code",
   "execution_count": null,
   "metadata": {},
   "outputs": [],
   "source": [
    "myList = [0, 1, 2, 3, 4, 5]\n",
    "myList"
   ]
  },
  {
   "cell_type": "code",
   "execution_count": null,
   "metadata": {},
   "outputs": [],
   "source": [
    "myList.append('blue')\n",
    "myList"
   ]
  },
  {
   "cell_type": "code",
   "execution_count": null,
   "metadata": {},
   "outputs": [],
   "source": [
    "myList[3]"
   ]
  },
  {
   "cell_type": "code",
   "execution_count": null,
   "metadata": {},
   "outputs": [],
   "source": [
    "myList[3:]"
   ]
  },
  {
   "cell_type": "code",
   "execution_count": null,
   "metadata": {},
   "outputs": [],
   "source": [
    "len(myList)"
   ]
  },
  {
   "cell_type": "markdown",
   "metadata": {},
   "source": [
    "## 5) NumPy\n",
    "\n",
    "NumPy is the fundamental package for scientific computing with Python. Some of the elements it contains are:\n",
    "\n",
    "- a powerful N-dimensional array object.\n",
    "- sophisticated (broadcasting) functions.\n",
    "- tools for integrating C/C++ and Fortran code.\n",
    "- useful linear algebra, Fourier transform, and random number capabilities.\n",
    "\n",
    "Besides its obvious scientific uses, NumPy can also be used as an efficient multi-dimensional container of generic data. Arbitrary data types can be defined. This enables NumPy to seamlessly and speedily integrate with a wide variety of databases.\n",
    "\n",
    "_(Source: https://www.numpy.org/)_"
   ]
  },
  {
   "cell_type": "code",
   "execution_count": null,
   "metadata": {},
   "outputs": [],
   "source": [
    "import numpy as np"
   ]
  },
  {
   "cell_type": "code",
   "execution_count": null,
   "metadata": {},
   "outputs": [],
   "source": [
    "np.pi"
   ]
  },
  {
   "cell_type": "markdown",
   "metadata": {},
   "source": [
    "To calculate the circumference of a circle from the radius we use the following equation:\n",
    "\n",
    "\\begin{align}\n",
    "c & = 2\\pi r \\\\\n",
    "\\end{align}"
   ]
  },
  {
   "cell_type": "code",
   "execution_count": null,
   "metadata": {},
   "outputs": [],
   "source": [
    "radius = 10\n",
    "circumference = 2 * np.pi * radius\n",
    "circumference"
   ]
  },
  {
   "cell_type": "code",
   "execution_count": null,
   "metadata": {},
   "outputs": [],
   "source": [
    "data = np.array([['','Col1','Col2'],\n",
    "                ['Row1',1,2],\n",
    "                ['Row2',3,4],\n",
    "                ['Row3',5,6]])\n",
    "\n",
    "print(data)"
   ]
  },
  {
   "cell_type": "code",
   "execution_count": null,
   "metadata": {},
   "outputs": [],
   "source": [
    "print(data[1:,1:])"
   ]
  },
  {
   "cell_type": "markdown",
   "metadata": {},
   "source": [
    "## 6) pandas"
   ]
  },
  {
   "cell_type": "markdown",
   "metadata": {},
   "source": [
    "Pandas is an open source, BSD-licensed library providing high-performance, easy-to-use data structures, and data analysis tools for the Python programming language.\n",
    "\n",
    "_(Source: https://pandas.pydata.org/)_"
   ]
  },
  {
   "cell_type": "code",
   "execution_count": null,
   "metadata": {},
   "outputs": [],
   "source": [
    "import pandas as pd"
   ]
  },
  {
   "cell_type": "code",
   "execution_count": null,
   "metadata": {},
   "outputs": [],
   "source": [
    "df = pd.DataFrame(data=data[1:,1:],\n",
    "                  index=data[1:,0],\n",
    "                  columns=data[0,1:])\n",
    "\n",
    "df"
   ]
  },
  {
   "cell_type": "markdown",
   "metadata": {},
   "source": [
    "### Sample Data\n",
    "Let's load some sample data from a CSV."
   ]
  },
  {
   "cell_type": "code",
   "execution_count": null,
   "metadata": {},
   "outputs": [],
   "source": [
    "penguin_data = pd.read_csv(\"penguin-data.csv\")\n",
    "\n",
    "penguin_data.shape"
   ]
  },
  {
   "cell_type": "code",
   "execution_count": null,
   "metadata": {},
   "outputs": [],
   "source": [
    "penguin_data.head()"
   ]
  },
  {
   "cell_type": "markdown",
   "metadata": {},
   "source": [
    "## 7) Matplotlib"
   ]
  },
  {
   "cell_type": "markdown",
   "metadata": {},
   "source": [
    "Matplotlib is a Python, 2D-plotting library which produces publication-quality figures in a variety of hardcopy formats and interactive environments across platforms. Matplotlib can be used in Python scripts, the Python and IPython shells, the Jupyter Notebook, web application servers, and four graphical user interface toolkits.\n",
    "\n",
    "_(Source: https://matplotlib.org/)_"
   ]
  },
  {
   "cell_type": "code",
   "execution_count": null,
   "metadata": {},
   "outputs": [],
   "source": [
    "import matplotlib.pyplot as plt\n",
    "%matplotlib inline\n",
    "\n",
    "penguin_data.plot(kind='scatter',x='Height',y='Weight',color='red')\n"
   ]
  },
  {
   "cell_type": "markdown",
   "metadata": {},
   "source": [
    "## 8) scikit-learn\n",
    "\n",
    "Machine learning in Python.\n",
    "\n",
    "- Simple and efficient tools for data mining and data analysis.\n",
    "- Accessible to everybody and reusable in various contexts.\n",
    "- Built on NumPy, SciPy, and matplotlib.\n",
    "- Open source, commercially-usable BSD license.\n",
    "\n",
    "_(Source: https://scikit-learn.org/)_"
   ]
  },
  {
   "cell_type": "markdown",
   "metadata": {},
   "source": [
    "### Train a Linear Regression Model"
   ]
  },
  {
   "cell_type": "markdown",
   "metadata": {},
   "source": [
    "Train a very simple model:"
   ]
  },
  {
   "cell_type": "code",
   "execution_count": null,
   "metadata": {},
   "outputs": [],
   "source": [
    "from sklearn.linear_model import LinearRegression\n",
    "from sklearn.model_selection import train_test_split\n",
    "\n",
    "# Set up the Linear Regression model\n",
    "model = LinearRegression()\n",
    "\n",
    "# Train the model with our data\n",
    "model.fit(penguin_data[['Height']], penguin_data['Weight'])"
   ]
  },
  {
   "cell_type": "markdown",
   "metadata": {},
   "source": [
    "Show the very simple model mapped to the training data:"
   ]
  },
  {
   "cell_type": "code",
   "execution_count": null,
   "metadata": {},
   "outputs": [],
   "source": [
    "# Plot our original training data\n",
    "axes = plt.axes()\n",
    "axes.scatter(x=penguin_data['Height'], y=penguin_data['Weight'])\n",
    "\n",
    "# Determine the best fit line\n",
    "slope = model.coef_[0]\n",
    "intercept = model.intercept_\n",
    "\n",
    "# Plot our model line\n",
    "x = np.linspace(10,20)\n",
    "y = slope*x+intercept\n",
    "axes.plot(x, y, 'r')\n",
    "\n",
    "# Add some labels to the graph\n",
    "axes.set_xlabel('Height')\n",
    "axes.set_ylabel('Weight')\n",
    "\n",
    "plt.show()"
   ]
  },
  {
   "cell_type": "markdown",
   "metadata": {},
   "source": [
    "### Make a Prediction\n",
    "\n",
    "The science team has spotted a new penguin and measured its height.\n",
    "\n",
    "Enter the height into the code here, then run the code to predict the weight of the penguin."
   ]
  },
  {
   "cell_type": "code",
   "execution_count": null,
   "metadata": {},
   "outputs": [],
   "source": [
    "height = 14\n",
    "\n",
    "# Reshape the height into an array\n",
    "new_height = np.reshape([height],(1, -1))\n",
    "\n",
    "# Pass the new height to the model so that a predicted weight can be infered\n",
    "weight = model.predict(new_height)[0]\n",
    "\n",
    "# Print the information back to the user\n",
    "print ( \"If you see a penguin thats %.2f tall, you can expect it to be %.2f in weight.\" % (height, weight))"
   ]
  },
  {
   "cell_type": "markdown",
   "metadata": {},
   "source": [
    "That is the end of this Linux Academy hands-on lab. Thanks!"
   ]
  },
  {
   "cell_type": "code",
   "execution_count": null,
   "metadata": {},
   "outputs": [],
   "source": []
  }
 ],
 "metadata": {
  "kernelspec": {
   "display_name": "conda_python3",
   "language": "python",
   "name": "conda_python3"
  },
  "language_info": {
   "codemirror_mode": {
    "name": "ipython",
    "version": 3
   },
   "file_extension": ".py",
   "mimetype": "text/x-python",
   "name": "python",
   "nbconvert_exporter": "python",
   "pygments_lexer": "ipython3",
   "version": "3.6.5"
  }
 },
 "nbformat": 4,
 "nbformat_minor": 2
}
